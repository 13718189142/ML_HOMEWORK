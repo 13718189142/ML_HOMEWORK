{
 "cells": [
  {
   "cell_type": "code",
   "execution_count": null,
   "id": "0ce03f8f",
   "metadata": {},
   "outputs": [],
   "source": []
  },
  {
   "cell_type": "code",
   "execution_count": 1,
   "id": "aff48cca",
   "metadata": {},
   "outputs": [],
   "source": [
    "def generate_spiral_poses(c2w, radius=3.0, n_frames=120):\n",
    "    import numpy as np\n",
    "    render_poses = []\n",
    "    for theta in np.linspace(0, 2 * np.pi, n_frames):\n",
    "        cam_origin = np.array([radius * np.sin(theta), 0.0, radius * np.cos(theta)])\n",
    "        forward = normalize(c2w[:3, 3] - cam_origin)\n",
    "        up = np.array([0, 1, 0])\n",
    "        right = normalize(np.cross(up, forward))\n",
    "        up = np.cross(forward, right)\n",
    "        pose = np.eye(4)\n",
    "        pose[:3, 0] = right\n",
    "        pose[:3, 1] = up\n",
    "        pose[:3, 2] = forward\n",
    "        pose[:3, 3] = cam_origin\n",
    "        render_poses.append(pose)\n",
    "    return np.stack(render_poses, axis=0)\n",
    "\n",
    "def normalize(x):\n",
    "    return x / np.linalg.norm(x)\n"
   ]
  }
 ],
 "metadata": {
  "kernelspec": {
   "display_name": "mmdet",
   "language": "python",
   "name": "python3"
  },
  "language_info": {
   "codemirror_mode": {
    "name": "ipython",
    "version": 3
   },
   "file_extension": ".py",
   "mimetype": "text/x-python",
   "name": "python",
   "nbconvert_exporter": "python",
   "pygments_lexer": "ipython3",
   "version": "3.9.22"
  }
 },
 "nbformat": 4,
 "nbformat_minor": 5
}
